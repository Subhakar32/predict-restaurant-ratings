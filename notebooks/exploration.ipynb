{
 "cells": [
  {
   "cell_type": "code",
   "execution_count": null,
   "id": "fde701dd",
   "metadata": {},
   "outputs": [],
   "source": [
    "import pandas as pd\n",
    "import matplotlib.pyplot as plt\n",
    "import seaborn as sns\n",
    "\n",
    "df = pd.read_csv('../data/restaurant_data.csv')\n",
    "print(df.info())\n",
    "print(df.describe())\n",
    "\n",
    "# Visualize missing data\n",
    "sns.heatmap(df.isnull(), cbar=False)\n",
    "\n",
    "# Correlation heatmap\n",
    "sns.heatmap(df.corr(), annot=True)\n",
    "\n",
    "# Distribution of ratings\n",
    "sns.histplot(df['aggregate_rating'], bins=20)"
   ]
  }
 ],
 "metadata": {
  "language_info": {
   "name": "python"
  }
 },
 "nbformat": 4,
 "nbformat_minor": 5
}
